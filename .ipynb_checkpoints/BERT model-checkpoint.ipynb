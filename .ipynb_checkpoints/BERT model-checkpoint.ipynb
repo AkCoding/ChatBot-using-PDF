{
 "cells": [
  {
   "cell_type": "code",
   "execution_count": 81,
   "id": "tough-sweden",
   "metadata": {
    "scrolled": false
   },
   "outputs": [],
   "source": [
    "import os\n",
    "import pandas as pd\n",
    "from ast import literal_eval\n",
    "from cdqa.utils.converters import pdf_converter\n",
    "from cdqa.pipeline import QAPipeline\n",
    "from cdqa.utils.download import download_model\n",
    "import io"
   ]
  },
  {
   "cell_type": "code",
   "execution_count": 45,
   "id": "prepared-being",
   "metadata": {},
   "outputs": [
    {
     "name": "stdout",
     "output_type": "stream",
     "text": [
      "\n",
      "Downloading trained model...\n",
      "bert_qa.joblib already downloaded\n"
     ]
    }
   ],
   "source": [
    "download_model(model = 'bert-squad_1.1', dir='./data')"
   ]
  },
  {
   "cell_type": "code",
   "execution_count": 59,
   "id": "dietary-dynamics",
   "metadata": {},
   "outputs": [],
   "source": [
    "doc = [r\"Victoria has a written constitution enacted in 1975, but based on the 1855 colonial constitution, passed by the United Kingdom Parliament as the Victoria Constitution Act 1855, which establishes the Parliament as the state's law-making body for matters coming under state responsibility. The Victorian Constitution can be amended by the Parliament of Victoria, except for certain 'entrenched' provisions that require either an absolute majority in both houses, a three-fifths majority in both houses, or the approval of the Victorian people in a referendum, depending on the provision.\"]\n",
    "\n",
    "q = 'When did Victoria enact its constitution?'"
   ]
  },
  {
   "cell_type": "code",
   "execution_count": 103,
   "id": "posted-forty",
   "metadata": {},
   "outputs": [],
   "source": [
    "df = pd.DataFrame(doc)\n",
    "df.columns=['Desc']\n",
    "df['Subject'] = ['Victoria']\n",
    "df = df.set_index('ubject')"
   ]
  },
  {
   "cell_type": "code",
   "execution_count": 104,
   "id": "prescription-construction",
   "metadata": {},
   "outputs": [
    {
     "data": {
      "text/html": [
       "<div>\n",
       "<style scoped>\n",
       "    .dataframe tbody tr th:only-of-type {\n",
       "        vertical-align: middle;\n",
       "    }\n",
       "\n",
       "    .dataframe tbody tr th {\n",
       "        vertical-align: top;\n",
       "    }\n",
       "\n",
       "    .dataframe thead th {\n",
       "        text-align: right;\n",
       "    }\n",
       "</style>\n",
       "<table border=\"1\" class=\"dataframe\">\n",
       "  <thead>\n",
       "    <tr style=\"text-align: right;\">\n",
       "      <th></th>\n",
       "      <th>Desc</th>\n",
       "    </tr>\n",
       "    <tr>\n",
       "      <th>Subject</th>\n",
       "      <th></th>\n",
       "    </tr>\n",
       "  </thead>\n",
       "  <tbody>\n",
       "    <tr>\n",
       "      <th>Victoria</th>\n",
       "      <td>Victoria has a written constitution enacted in 1975, but based on the 1855 colonial constitution, passed by the United Kingdom Parliament as the Victoria Constitution Act 1855, which establishes the Parliament as the state's law-making body for matters coming under state responsibility. The Victorian Constitution can be amended by the Parliament of Victoria, except for certain 'entrenched' provisions that require either an absolute majority in both houses, a three-fifths majority in both houses, or the approval of the Victorian people in a referendum, depending on the provision.</td>\n",
       "    </tr>\n",
       "  </tbody>\n",
       "</table>\n",
       "</div>"
      ],
      "text/plain": [
       "                                                                                                                                                                                                                                                                                                                                                                                                                                                                                                                                                                                                               Desc\n",
       "Subject                                                                                                                                                                                                                                                                                                                                                                                                                                                                                                                                                                                                            \n",
       "Victoria  Victoria has a written constitution enacted in 1975, but based on the 1855 colonial constitution, passed by the United Kingdom Parliament as the Victoria Constitution Act 1855, which establishes the Parliament as the state's law-making body for matters coming under state responsibility. The Victorian Constitution can be amended by the Parliament of Victoria, except for certain 'entrenched' provisions that require either an absolute majority in both houses, a three-fifths majority in both houses, or the approval of the Victorian people in a referendum, depending on the provision."
      ]
     },
     "execution_count": 104,
     "metadata": {},
     "output_type": "execute_result"
    }
   ],
   "source": [
    "df"
   ]
  },
  {
   "cell_type": "code",
   "execution_count": 105,
   "id": "happy-accident",
   "metadata": {},
   "outputs": [],
   "source": [
    "# df = pdf_converter(directory_path='./data/pdf/')\n",
    "# df.head()"
   ]
  },
  {
   "cell_type": "code",
   "execution_count": 106,
   "id": "focused-january",
   "metadata": {},
   "outputs": [
    {
     "data": {
      "text/html": [
       "<div>\n",
       "<style scoped>\n",
       "    .dataframe tbody tr th:only-of-type {\n",
       "        vertical-align: middle;\n",
       "    }\n",
       "\n",
       "    .dataframe tbody tr th {\n",
       "        vertical-align: top;\n",
       "    }\n",
       "\n",
       "    .dataframe thead th {\n",
       "        text-align: right;\n",
       "    }\n",
       "</style>\n",
       "<table border=\"1\" class=\"dataframe\">\n",
       "  <thead>\n",
       "    <tr style=\"text-align: right;\">\n",
       "      <th></th>\n",
       "      <th>Desc</th>\n",
       "    </tr>\n",
       "    <tr>\n",
       "      <th>Subject</th>\n",
       "      <th></th>\n",
       "    </tr>\n",
       "  </thead>\n",
       "  <tbody>\n",
       "    <tr>\n",
       "      <th>Victoria</th>\n",
       "      <td>Victoria has a written constitution enacted in 1975, but based on the 1855 colonial constitution, passed by the United Kingdom Parliament as the Victoria Constitution Act 1855, which establishes the Parliament as the state's law-making body for matters coming under state responsibility. The Victorian Constitution can be amended by the Parliament of Victoria, except for certain 'entrenched' provisions that require either an absolute majority in both houses, a three-fifths majority in both houses, or the approval of the Victorian people in a referendum, depending on the provision.</td>\n",
       "    </tr>\n",
       "  </tbody>\n",
       "</table>\n",
       "</div>"
      ],
      "text/plain": [
       "                                                                                                                                                                                                                                                                                                                                                                                                                                                                                                                                                                                                               Desc\n",
       "Subject                                                                                                                                                                                                                                                                                                                                                                                                                                                                                                                                                                                                            \n",
       "Victoria  Victoria has a written constitution enacted in 1975, but based on the 1855 colonial constitution, passed by the United Kingdom Parliament as the Victoria Constitution Act 1855, which establishes the Parliament as the state's law-making body for matters coming under state responsibility. The Victorian Constitution can be amended by the Parliament of Victoria, except for certain 'entrenched' provisions that require either an absolute majority in both houses, a three-fifths majority in both houses, or the approval of the Victorian people in a referendum, depending on the provision."
      ]
     },
     "execution_count": 106,
     "metadata": {},
     "output_type": "execute_result"
    }
   ],
   "source": [
    "pd.set_option('display.max_colwidth', -1)\n",
    "df.head()"
   ]
  },
  {
   "cell_type": "code",
   "execution_count": 107,
   "id": "ecological-vacuum",
   "metadata": {},
   "outputs": [
    {
     "ename": "KeyError",
     "evalue": "\"['paragraphs'] not found in axis\"",
     "output_type": "error",
     "traceback": [
      "\u001b[0;31m---------------------------------------------------------------------------\u001b[0m",
      "\u001b[0;31mKeyError\u001b[0m                                  Traceback (most recent call last)",
      "\u001b[0;32m<ipython-input-107-8150b31a0395>\u001b[0m in \u001b[0;36m<module>\u001b[0;34m\u001b[0m\n\u001b[1;32m      1\u001b[0m \u001b[0mcdqa_pipeline\u001b[0m \u001b[0;34m=\u001b[0m \u001b[0mQAPipeline\u001b[0m\u001b[0;34m(\u001b[0m\u001b[0mreader\u001b[0m\u001b[0;34m=\u001b[0m\u001b[0;34m'./data/bert_qa.joblib'\u001b[0m\u001b[0;34m,\u001b[0m \u001b[0mmax_df\u001b[0m\u001b[0;34m=\u001b[0m\u001b[0;36m1.0\u001b[0m\u001b[0;34m)\u001b[0m\u001b[0;34m\u001b[0m\u001b[0;34m\u001b[0m\u001b[0m\n\u001b[0;32m----> 2\u001b[0;31m \u001b[0mcdqa_pipeline\u001b[0m\u001b[0;34m.\u001b[0m\u001b[0mfit_retriever\u001b[0m\u001b[0;34m(\u001b[0m\u001b[0mdf\u001b[0m\u001b[0;34m=\u001b[0m\u001b[0mdf\u001b[0m\u001b[0;34m)\u001b[0m\u001b[0;34m\u001b[0m\u001b[0;34m\u001b[0m\u001b[0m\n\u001b[0m",
      "\u001b[0;32m/usr/local/lib/python3.6/site-packages/cdqa/pipeline/cdqa_sklearn.py\u001b[0m in \u001b[0;36mfit_retriever\u001b[0;34m(self, df)\u001b[0m\n\u001b[1;32m    109\u001b[0m             )\n\u001b[1;32m    110\u001b[0m         \u001b[0;32melse\u001b[0m\u001b[0;34m:\u001b[0m\u001b[0;34m\u001b[0m\u001b[0;34m\u001b[0m\u001b[0m\n\u001b[0;32m--> 111\u001b[0;31m             \u001b[0mself\u001b[0m\u001b[0;34m.\u001b[0m\u001b[0mmetadata\u001b[0m \u001b[0;34m=\u001b[0m \u001b[0mself\u001b[0m\u001b[0;34m.\u001b[0m\u001b[0m_expand_paragraphs\u001b[0m\u001b[0;34m(\u001b[0m\u001b[0mdf\u001b[0m\u001b[0;34m)\u001b[0m\u001b[0;34m\u001b[0m\u001b[0;34m\u001b[0m\u001b[0m\n\u001b[0m\u001b[1;32m    112\u001b[0m \u001b[0;34m\u001b[0m\u001b[0m\n\u001b[1;32m    113\u001b[0m         \u001b[0mself\u001b[0m\u001b[0;34m.\u001b[0m\u001b[0mretriever\u001b[0m\u001b[0;34m.\u001b[0m\u001b[0mfit\u001b[0m\u001b[0;34m(\u001b[0m\u001b[0mself\u001b[0m\u001b[0;34m.\u001b[0m\u001b[0mmetadata\u001b[0m\u001b[0;34m)\u001b[0m\u001b[0;34m\u001b[0m\u001b[0;34m\u001b[0m\u001b[0m\n",
      "\u001b[0;32m/usr/local/lib/python3.6/site-packages/cdqa/pipeline/cdqa_sklearn.py\u001b[0m in \u001b[0;36m_expand_paragraphs\u001b[0;34m(df)\u001b[0m\n\u001b[1;32m    230\u001b[0m             {\n\u001b[1;32m    231\u001b[0m                 \u001b[0mcol\u001b[0m\u001b[0;34m:\u001b[0m \u001b[0mnp\u001b[0m\u001b[0;34m.\u001b[0m\u001b[0mrepeat\u001b[0m\u001b[0;34m(\u001b[0m\u001b[0mdf\u001b[0m\u001b[0;34m[\u001b[0m\u001b[0mcol\u001b[0m\u001b[0;34m]\u001b[0m\u001b[0;34m.\u001b[0m\u001b[0mvalues\u001b[0m\u001b[0;34m,\u001b[0m \u001b[0mdf\u001b[0m\u001b[0;34m[\u001b[0m\u001b[0mlst_col\u001b[0m\u001b[0;34m]\u001b[0m\u001b[0;34m.\u001b[0m\u001b[0mstr\u001b[0m\u001b[0;34m.\u001b[0m\u001b[0mlen\u001b[0m\u001b[0;34m(\u001b[0m\u001b[0;34m)\u001b[0m\u001b[0;34m)\u001b[0m\u001b[0;34m\u001b[0m\u001b[0;34m\u001b[0m\u001b[0m\n\u001b[0;32m--> 232\u001b[0;31m                 \u001b[0;32mfor\u001b[0m \u001b[0mcol\u001b[0m \u001b[0;32min\u001b[0m \u001b[0mdf\u001b[0m\u001b[0;34m.\u001b[0m\u001b[0mcolumns\u001b[0m\u001b[0;34m.\u001b[0m\u001b[0mdrop\u001b[0m\u001b[0;34m(\u001b[0m\u001b[0mlst_col\u001b[0m\u001b[0;34m)\u001b[0m\u001b[0;34m\u001b[0m\u001b[0;34m\u001b[0m\u001b[0m\n\u001b[0m\u001b[1;32m    233\u001b[0m             }\n\u001b[1;32m    234\u001b[0m         ).assign(**{lst_col: np.concatenate(df[lst_col].values)})[df.columns]\n",
      "\u001b[0;32m/usr/local/lib/python3.6/site-packages/pandas/core/indexes/base.py\u001b[0m in \u001b[0;36mdrop\u001b[0;34m(self, labels, errors)\u001b[0m\n\u001b[1;32m   5331\u001b[0m         \u001b[0;32mif\u001b[0m \u001b[0mmask\u001b[0m\u001b[0;34m.\u001b[0m\u001b[0many\u001b[0m\u001b[0;34m(\u001b[0m\u001b[0;34m)\u001b[0m\u001b[0;34m:\u001b[0m\u001b[0;34m\u001b[0m\u001b[0;34m\u001b[0m\u001b[0m\n\u001b[1;32m   5332\u001b[0m             \u001b[0;32mif\u001b[0m \u001b[0merrors\u001b[0m \u001b[0;34m!=\u001b[0m \u001b[0;34m\"ignore\"\u001b[0m\u001b[0;34m:\u001b[0m\u001b[0;34m\u001b[0m\u001b[0;34m\u001b[0m\u001b[0m\n\u001b[0;32m-> 5333\u001b[0;31m                 \u001b[0;32mraise\u001b[0m \u001b[0mKeyError\u001b[0m\u001b[0;34m(\u001b[0m\u001b[0;34m\"{} not found in axis\"\u001b[0m\u001b[0;34m.\u001b[0m\u001b[0mformat\u001b[0m\u001b[0;34m(\u001b[0m\u001b[0mlabels\u001b[0m\u001b[0;34m[\u001b[0m\u001b[0mmask\u001b[0m\u001b[0;34m]\u001b[0m\u001b[0;34m)\u001b[0m\u001b[0;34m)\u001b[0m\u001b[0;34m\u001b[0m\u001b[0;34m\u001b[0m\u001b[0m\n\u001b[0m\u001b[1;32m   5334\u001b[0m             \u001b[0mindexer\u001b[0m \u001b[0;34m=\u001b[0m \u001b[0mindexer\u001b[0m\u001b[0;34m[\u001b[0m\u001b[0;34m~\u001b[0m\u001b[0mmask\u001b[0m\u001b[0;34m]\u001b[0m\u001b[0;34m\u001b[0m\u001b[0;34m\u001b[0m\u001b[0m\n\u001b[1;32m   5335\u001b[0m         \u001b[0;32mreturn\u001b[0m \u001b[0mself\u001b[0m\u001b[0;34m.\u001b[0m\u001b[0mdelete\u001b[0m\u001b[0;34m(\u001b[0m\u001b[0mindexer\u001b[0m\u001b[0;34m)\u001b[0m\u001b[0;34m\u001b[0m\u001b[0;34m\u001b[0m\u001b[0m\n",
      "\u001b[0;31mKeyError\u001b[0m: \"['paragraphs'] not found in axis\""
     ]
    }
   ],
   "source": [
    "cdqa_pipeline = QAPipeline(reader='./data/bert_qa.joblib', max_df=1.0)\n",
    "cdqa_pipeline.fit_retriever(df=df)"
   ]
  },
  {
   "cell_type": "code",
   "execution_count": null,
   "id": "sublime-delivery",
   "metadata": {},
   "outputs": [],
   "source": [
    "query = 'How much is increase in operating cash flow?'\n",
    "prediction = cdqa_pipeline.predict(query, 3)"
   ]
  },
  {
   "cell_type": "code",
   "execution_count": 14,
   "id": "subjective-queue",
   "metadata": {},
   "outputs": [
    {
     "data": {
      "text/plain": [
       "[('16 %',\n",
       "  'AMZN-Q1-2020-Earnings-Release (1)',\n",
       "  'Cash Flows and Shares        Operating cash flow -- trailing twelve months (TTM) $ 30,723 $ 34,360 $ 36,029 $ 35,332 $ 38,514 $ 39,732 16 %Operating cash flow -- TTM Y/Y growth 67% 89 % 65% 33 % 25 % 16 % N/A ',\n",
       "  17.591329651280567),\n",
       " ('16 %',\n",
       "  'AMZN-Q1-2020-Earnings-Release',\n",
       "  'Cash Flows and Shares        Operating cash flow -- trailing twelve months (TTM) $ 30,723 $ 34,360 $ 36,029 $ 35,332 $ 38,514 $ 39,732 16 %Operating cash flow -- TTM Y/Y growth 67% 89 % 65% 33 % 25 % 16 % N/A ',\n",
       "  17.591329651280567),\n",
       " ('33 %',\n",
       "  'Q3-2019-Amazon-Financial-Results (1)',\n",
       "  'Cash Flows and Shares        Operating cash flow -- trailing twelve months (TTM) $ 21,793 $ 26,604 $ 30,723 $ 34,360 $ 36,029 $ 35,332 33 %Operating cash flow -- TTM Y/Y growth 22% 57 % 67% 89% 65 % 33 % N/A ',\n",
       "  16.905790524884388)]"
      ]
     },
     "execution_count": 14,
     "metadata": {},
     "output_type": "execute_result"
    }
   ],
   "source": [
    "prediction"
   ]
  },
  {
   "cell_type": "code",
   "execution_count": 15,
   "id": "identified-cruise",
   "metadata": {},
   "outputs": [
    {
     "data": {
      "text/plain": [
       "[('16 %',\n",
       "  'AMZN-Q1-2020-Earnings-Release (1)',\n",
       "  'Cash Flows and Shares        Operating cash flow -- trailing twelve months (TTM) $ 30,723 $ 34,360 $ 36,029 $ 35,332 $ 38,514 $ 39,732 16 %Operating cash flow -- TTM Y/Y growth 67% 89 % 65% 33 % 25 % 16 % N/A ',\n",
       "  17.591329651280567),\n",
       " ('16 %',\n",
       "  'AMZN-Q1-2020-Earnings-Release',\n",
       "  'Cash Flows and Shares        Operating cash flow -- trailing twelve months (TTM) $ 30,723 $ 34,360 $ 36,029 $ 35,332 $ 38,514 $ 39,732 16 %Operating cash flow -- TTM Y/Y growth 67% 89 % 65% 33 % 25 % 16 % N/A ',\n",
       "  17.591329651280567),\n",
       " ('33 %',\n",
       "  'Q3-2019-Amazon-Financial-Results (1)',\n",
       "  'Cash Flows and Shares        Operating cash flow -- trailing twelve months (TTM) $ 21,793 $ 26,604 $ 30,723 $ 34,360 $ 36,029 $ 35,332 33 %Operating cash flow -- TTM Y/Y growth 22% 57 % 67% 89% 65 % 33 % N/A ',\n",
       "  16.905790524884388)]"
      ]
     },
     "execution_count": 15,
     "metadata": {},
     "output_type": "execute_result"
    }
   ],
   "source": [
    "query = 'what is latest earning per share?'\n",
    "cdqa_pipeline.predict(query)\n",
    "prediction"
   ]
  },
  {
   "cell_type": "code",
   "execution_count": 16,
   "id": "engaging-policy",
   "metadata": {},
   "outputs": [
    {
     "data": {
      "text/plain": [
       "[('16 %',\n",
       "  'AMZN-Q1-2020-Earnings-Release (1)',\n",
       "  'Cash Flows and Shares        Operating cash flow -- trailing twelve months (TTM) $ 30,723 $ 34,360 $ 36,029 $ 35,332 $ 38,514 $ 39,732 16 %Operating cash flow -- TTM Y/Y growth 67% 89 % 65% 33 % 25 % 16 % N/A ',\n",
       "  17.591329651280567),\n",
       " ('16 %',\n",
       "  'AMZN-Q1-2020-Earnings-Release',\n",
       "  'Cash Flows and Shares        Operating cash flow -- trailing twelve months (TTM) $ 30,723 $ 34,360 $ 36,029 $ 35,332 $ 38,514 $ 39,732 16 %Operating cash flow -- TTM Y/Y growth 67% 89 % 65% 33 % 25 % 16 % N/A ',\n",
       "  17.591329651280567),\n",
       " ('33 %',\n",
       "  'Q3-2019-Amazon-Financial-Results (1)',\n",
       "  'Cash Flows and Shares        Operating cash flow -- trailing twelve months (TTM) $ 21,793 $ 26,604 $ 30,723 $ 34,360 $ 36,029 $ 35,332 33 %Operating cash flow -- TTM Y/Y growth 22% 57 % 67% 89% 65 % 33 % N/A ',\n",
       "  16.905790524884388)]"
      ]
     },
     "execution_count": 16,
     "metadata": {},
     "output_type": "execute_result"
    }
   ],
   "source": [
    "query = 'how many jobs are created in 2020'\n",
    "cdqa_pipeline.predict(query)\n",
    "prediction"
   ]
  },
  {
   "cell_type": "code",
   "execution_count": 17,
   "id": "pressing-throat",
   "metadata": {},
   "outputs": [
    {
     "data": {
      "text/plain": [
       "[('16 %',\n",
       "  'AMZN-Q1-2020-Earnings-Release (1)',\n",
       "  'Cash Flows and Shares        Operating cash flow -- trailing twelve months (TTM) $ 30,723 $ 34,360 $ 36,029 $ 35,332 $ 38,514 $ 39,732 16 %Operating cash flow -- TTM Y/Y growth 67% 89 % 65% 33 % 25 % 16 % N/A ',\n",
       "  17.591329651280567),\n",
       " ('16 %',\n",
       "  'AMZN-Q1-2020-Earnings-Release',\n",
       "  'Cash Flows and Shares        Operating cash flow -- trailing twelve months (TTM) $ 30,723 $ 34,360 $ 36,029 $ 35,332 $ 38,514 $ 39,732 16 %Operating cash flow -- TTM Y/Y growth 67% 89 % 65% 33 % 25 % 16 % N/A ',\n",
       "  17.591329651280567),\n",
       " ('33 %',\n",
       "  'Q3-2019-Amazon-Financial-Results (1)',\n",
       "  'Cash Flows and Shares        Operating cash flow -- trailing twelve months (TTM) $ 21,793 $ 26,604 $ 30,723 $ 34,360 $ 36,029 $ 35,332 33 %Operating cash flow -- TTM Y/Y growth 22% 57 % 67% 89% 65 % 33 % N/A ',\n",
       "  16.905790524884388)]"
      ]
     },
     "execution_count": 17,
     "metadata": {},
     "output_type": "execute_result"
    }
   ],
   "source": [
    "query = 'how much is increase in operating cash flow?'\n",
    "cdqa_pipeline.predict(query, 3)\n",
    "prediction"
   ]
  },
  {
   "cell_type": "code",
   "execution_count": 18,
   "id": "expressed-nomination",
   "metadata": {},
   "outputs": [
    {
     "data": {
      "text/plain": [
       "[('16 %',\n",
       "  'AMZN-Q1-2020-Earnings-Release (1)',\n",
       "  'Cash Flows and Shares        Operating cash flow -- trailing twelve months (TTM) $ 30,723 $ 34,360 $ 36,029 $ 35,332 $ 38,514 $ 39,732 16 %Operating cash flow -- TTM Y/Y growth 67% 89 % 65% 33 % 25 % 16 % N/A ',\n",
       "  17.591329651280567),\n",
       " ('16 %',\n",
       "  'AMZN-Q1-2020-Earnings-Release',\n",
       "  'Cash Flows and Shares        Operating cash flow -- trailing twelve months (TTM) $ 30,723 $ 34,360 $ 36,029 $ 35,332 $ 38,514 $ 39,732 16 %Operating cash flow -- TTM Y/Y growth 67% 89 % 65% 33 % 25 % 16 % N/A ',\n",
       "  17.591329651280567),\n",
       " ('33 %',\n",
       "  'Q3-2019-Amazon-Financial-Results (1)',\n",
       "  'Cash Flows and Shares        Operating cash flow -- trailing twelve months (TTM) $ 21,793 $ 26,604 $ 30,723 $ 34,360 $ 36,029 $ 35,332 33 %Operating cash flow -- TTM Y/Y growth 22% 57 % 67% 89% 65 % 33 % N/A ',\n",
       "  16.905790524884388)]"
      ]
     },
     "execution_count": 18,
     "metadata": {},
     "output_type": "execute_result"
    }
   ],
   "source": [
    "query = 'what is latest earning per share?'\n",
    "cdqa_pipeline.predict(query)\n",
    "prediction"
   ]
  },
  {
   "cell_type": "code",
   "execution_count": 19,
   "id": "expressed-cartridge",
   "metadata": {},
   "outputs": [
    {
     "data": {
      "text/plain": [
       "('millions',\n",
       " 'AMZN-Q3-2020-Earnings-Release',\n",
       " 'AMAZON.COM, INC. Supplemental Financial Information and Business Metrics (in millions, except employee data) (unaudited)  Q2 2019 Q3 2019 Q4 2019 Q1 2020 Q2 2020 Q3 2020 Y/Y % Change ',\n",
       " 4.960919582379806)"
      ]
     },
     "execution_count": 19,
     "metadata": {},
     "output_type": "execute_result"
    }
   ],
   "source": [
    "query = 'how much jobs are created in 2020?'\n",
    "cdqa_pipeline.predict(query)"
   ]
  },
  {
   "cell_type": "code",
   "execution_count": 21,
   "id": "natural-instrumentation",
   "metadata": {},
   "outputs": [
    {
     "name": "stdout",
     "output_type": "stream",
     "text": [
      "query {'how much jobs are created in 2020?'}\n",
      "answer {('16 %', 'AMZN-Q1-2020-Earnings-Release (1)', 'Cash Flows and Shares        Operating cash flow -- trailing twelve months (TTM) $ 30,723 $ 34,360 $ 36,029 $ 35,332 $ 38,514 $ 39,732 16 %Operating cash flow -- TTM Y/Y growth 67% 89 % 65% 33 % 25 % 16 % N/A ', 17.591329651280567)}\n",
      "title {('16 %', 'AMZN-Q1-2020-Earnings-Release', 'Cash Flows and Shares        Operating cash flow -- trailing twelve months (TTM) $ 30,723 $ 34,360 $ 36,029 $ 35,332 $ 38,514 $ 39,732 16 %Operating cash flow -- TTM Y/Y growth 67% 89 % 65% 33 % 25 % 16 % N/A ', 17.591329651280567)}\n",
      "paragraph {('33 %', 'Q3-2019-Amazon-Financial-Results (1)', 'Cash Flows and Shares        Operating cash flow -- trailing twelve months (TTM) $ 21,793 $ 26,604 $ 30,723 $ 34,360 $ 36,029 $ 35,332 33 %Operating cash flow -- TTM Y/Y growth 22% 57 % 67% 89% 65 % 33 % N/A ', 16.905790524884388)}\n"
     ]
    }
   ],
   "source": [
    "print(f'query',{query})\n",
    "print(f'answer',{prediction[0]})\n",
    "print(f'title',{prediction[1]})\n",
    "print(f'paragraph',{prediction[2]})"
   ]
  },
  {
   "cell_type": "code",
   "execution_count": null,
   "id": "wireless-practitioner",
   "metadata": {},
   "outputs": [],
   "source": []
  }
 ],
 "metadata": {
  "kernelspec": {
   "display_name": "Python 3",
   "language": "python",
   "name": "python3"
  },
  "language_info": {
   "codemirror_mode": {
    "name": "ipython",
    "version": 3
   },
   "file_extension": ".py",
   "mimetype": "text/x-python",
   "name": "python",
   "nbconvert_exporter": "python",
   "pygments_lexer": "ipython3",
   "version": "3.6.9"
  }
 },
 "nbformat": 4,
 "nbformat_minor": 5
}
